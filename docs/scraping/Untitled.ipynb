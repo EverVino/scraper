{
 "cells": [
  {
   "cell_type": "markdown",
   "id": "942d77d1-9cde-472d-a2f0-b3154c57bac0",
   "metadata": {},
   "source": [
    "# Rotar proxies"
   ]
  },
  {
   "cell_type": "code",
   "execution_count": 12,
   "id": "3acd3d12-b392-4604-9f6e-6fdda01ed773",
   "metadata": {},
   "outputs": [],
   "source": [
    "import requests\n",
    "import pandas as pd"
   ]
  },
  {
   "cell_type": "code",
   "execution_count": 7,
   "id": "58259525-7b23-4a80-b9dd-68e82b49ff13",
   "metadata": {},
   "outputs": [],
   "source": [
    "with open('proxies.txt', 'r') as file:\n",
    "    proxies = file.read().splitlines()"
   ]
  },
  {
   "cell_type": "code",
   "execution_count": 6,
   "id": "fb32556a-2fef-42b2-adea-1e5eae539582",
   "metadata": {},
   "outputs": [],
   "source": [
    "url = 'https://www.eldiario.net/portal/'"
   ]
  },
  {
   "cell_type": "code",
   "execution_count": 11,
   "id": "fd698826-a6a8-4827-984b-6b03f708ad87",
   "metadata": {},
   "outputs": [
    {
     "name": "stdout",
     "output_type": "stream",
     "text": [
      "200\n"
     ]
    }
   ],
   "source": [
    "response = requests.get(url, proxies={'http': f'http://{proxies[0]}'}, timeout=20)\n",
    "print(response.status_code)"
   ]
  },
  {
   "cell_type": "code",
   "execution_count": 13,
   "id": "f61a4f83-29b9-417a-a253-af3baa1b54a9",
   "metadata": {},
   "outputs": [],
   "source": [
    "data = dict()\n",
    "data[\"a\"] = [\"datos a\", \"datos a1\"]\n",
    "data[\"b\"] = [\"datos b\", \"datos b1\"]\n",
    "df = pd.DataFrame(data)"
   ]
  },
  {
   "cell_type": "code",
   "execution_count": 14,
   "id": "c1c04199-b8ea-46d3-bea5-11276b949a93",
   "metadata": {},
   "outputs": [
    {
     "data": {
      "text/html": [
       "<div>\n",
       "<style scoped>\n",
       "    .dataframe tbody tr th:only-of-type {\n",
       "        vertical-align: middle;\n",
       "    }\n",
       "\n",
       "    .dataframe tbody tr th {\n",
       "        vertical-align: top;\n",
       "    }\n",
       "\n",
       "    .dataframe thead th {\n",
       "        text-align: right;\n",
       "    }\n",
       "</style>\n",
       "<table border=\"1\" class=\"dataframe\">\n",
       "  <thead>\n",
       "    <tr style=\"text-align: right;\">\n",
       "      <th></th>\n",
       "      <th>a</th>\n",
       "      <th>b</th>\n",
       "    </tr>\n",
       "  </thead>\n",
       "  <tbody>\n",
       "    <tr>\n",
       "      <th>0</th>\n",
       "      <td>datos a</td>\n",
       "      <td>datos b</td>\n",
       "    </tr>\n",
       "    <tr>\n",
       "      <th>1</th>\n",
       "      <td>datos a1</td>\n",
       "      <td>datos b1</td>\n",
       "    </tr>\n",
       "  </tbody>\n",
       "</table>\n",
       "</div>"
      ],
      "text/plain": [
       "          a         b\n",
       "0   datos a   datos b\n",
       "1  datos a1  datos b1"
      ]
     },
     "execution_count": 14,
     "metadata": {},
     "output_type": "execute_result"
    }
   ],
   "source": [
    "df\n"
   ]
  },
  {
   "cell_type": "code",
   "execution_count": 20,
   "id": "ab51f1a9-1db2-47ce-ab95-4c996893baae",
   "metadata": {},
   "outputs": [],
   "source": [
    "b = list(df['a'])"
   ]
  },
  {
   "cell_type": "code",
   "execution_count": 21,
   "id": "6dead1ca-f31a-450a-9d3e-b781d8b1e3ee",
   "metadata": {},
   "outputs": [
    {
     "data": {
      "text/plain": [
       "['datos a', 'datos a1']"
      ]
     },
     "execution_count": 21,
     "metadata": {},
     "output_type": "execute_result"
    }
   ],
   "source": [
    "b"
   ]
  },
  {
   "cell_type": "code",
   "execution_count": null,
   "id": "ecb2490e-404b-4f66-b534-38dcfd1c7eb6",
   "metadata": {},
   "outputs": [],
   "source": []
  }
 ],
 "metadata": {
  "kernelspec": {
   "display_name": "Python 3 (ipykernel)",
   "language": "python",
   "name": "python3"
  },
  "language_info": {
   "codemirror_mode": {
    "name": "ipython",
    "version": 3
   },
   "file_extension": ".py",
   "mimetype": "text/x-python",
   "name": "python",
   "nbconvert_exporter": "python",
   "pygments_lexer": "ipython3",
   "version": "3.10.0"
  }
 },
 "nbformat": 4,
 "nbformat_minor": 5
}
